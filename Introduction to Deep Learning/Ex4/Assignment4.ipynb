{
  "nbformat": 4,
  "nbformat_minor": 0,
  "metadata": {
    "colab": {
      "name": "Assignment4.ipynb",
      "provenance": [],
      "collapsed_sections": []
    },
    "language_info": {
      "name": "python"
    },
    "kernelspec": {
      "name": "python3",
      "display_name": "Python 3"
    },
    "accelerator": "GPU"
  },
  "cells": [
    {
      "cell_type": "markdown",
      "metadata": {
        "id": "MV-Baq834KT6"
      },
      "source": [
        "By:\n",
        "\n",
        "Tom Kessous 206018749\n",
        "\n",
        "\n",
        "Dan Ben Ami 316333079\n",
        "# Assignment 4: Language Processing with RNN-Based Autoencoders\n",
        "\n",
        "**Deadline**: Sunday, June 15th, by 9pm.\n",
        "\n",
        "\n",
        "**Submission**: Submit a PDF export of the completed notebook as well as the ipynb file. \n",
        "\n",
        "In this assignement, we will practice the application of deep learning to natural language processing.\n",
        "We will be working with a subset of Reuters news headlines that are collected over 15 months,\n",
        "covering all of 2019, plus a few months in 2018 and in a few months of this year.\n",
        "\n",
        "In particular, we will be building an **autoencoder** of news headlines. The idea is similar\n",
        "to the kind of image autoencoder we built in lecture: we will have an **encoder** that\n",
        "maps a news headline to a vector embedding, and then a **decoder** that reconstructs\n",
        "the news headline. Both our encoder and decoder networks will be Recurrent Neural Networks,\n",
        "so that you have a chance to practice building\n",
        "\n",
        "- a neural network that takes a sequence as an input\n",
        "- a neural network that generates a sequence as an output\n",
        "\n",
        "This assignment is organized as follows:\n",
        "\n",
        "- Question 1. Exploring the data\n",
        "- Question 2. Building the autoencoder\n",
        "- Question 3. Training the autoencoder using *data augmentation*\n",
        "- Question 4. Analyzing the embeddings (interpolating between headlines)\n",
        "\n",
        "Furthermore, we'll be introducing the idea of **data augmentation** for improving of\n",
        "the robustness of the autoencoder, as proposed by Shen et al [1] in ICML 2020.\n",
        "\n",
        "[1] Shen, Tianxiao, Jonas Mueller, Regina Barzilay, and Tommi Jaakkola. \"Educating text autoencoders: Latent representation guidance via denoising.\" In International Conference on Machine Learning, pp. 8719-8729. PMLR, 2020."
      ]
    },
    {
      "cell_type": "code",
      "metadata": {
        "id": "_CobqQza4KUC"
      },
      "source": [
        "import torch\n",
        "import torch.nn as nn\n",
        "import torch.nn.functional as F\n",
        "import torch.optim as optim\n",
        "\n",
        "import matplotlib.pyplot as plt\n",
        "import numpy as np\n",
        "import random"
      ],
      "execution_count": null,
      "outputs": []
    },
    {
      "cell_type": "markdown",
      "metadata": {
        "id": "cSz5FCNh4KUD"
      },
      "source": [
        "## Question 1. Data (20 %)\n",
        "\n",
        "Download the files `reuters_train.txt` and `reuters_valid.txt`, and upload them to Google Drive.\n",
        "\n",
        "Then, mount Google Drive from your Google Colab notebook:"
      ]
    },
    {
      "cell_type": "code",
      "metadata": {
        "colab": {
          "base_uri": "https://localhost:8080/"
        },
        "id": "fnABNyg94KUE",
        "outputId": "32a3aa1f-4f1d-4b8d-fc90-69565784d52a"
      },
      "source": [
        "from google.colab import drive\n",
        "drive.mount('/content/gdrive')\n",
        "\n",
        "train_path = '/content/gdrive/My Drive/Colab Notebooks/reuters_train.txt' # Update me\n",
        "valid_path = '/content/gdrive/My Drive/Colab Notebooks/reuters_valid.txt' # Update me"
      ],
      "execution_count": null,
      "outputs": [
        {
          "output_type": "stream",
          "name": "stdout",
          "text": [
            "Drive already mounted at /content/gdrive; to attempt to forcibly remount, call drive.mount(\"/content/gdrive\", force_remount=True).\n"
          ]
        }
      ]
    },
    {
      "cell_type": "markdown",
      "metadata": {
        "id": "hdkp4HLW4KUE"
      },
      "source": [
        "As we did in some of our examples (e.g., training transformers on IMDB reviews) will be using PyTorch's `torchtext` utilities to help us load, process,\n",
        "and batch the data. We'll be using a `TabularDataset` to load our data, which works well on structured\n",
        "CSV data with fixed columns (e.g. a column for the sequence, a column for the label). Our tabular dataset\n",
        "is even simpler: we have no labels, just some text. So, we are treating our data as a table with one field\n",
        "representing our sequence."
      ]
    },
    {
      "cell_type": "code",
      "metadata": {
        "id": "I2PjMSho4KUF"
      },
      "source": [
        "import torchtext.legacy.data as data\n",
        "\n",
        "# Tokenization function to separate a headline into words\n",
        "def tokenize_headline(headline):\n",
        "    \"\"\"Returns the sequence of words in the string headline. We also\n",
        "    prepend the \"<bos>\" or beginning-of-string token, and append the\n",
        "    \"<eos>\" or end-of-string token to the headline.\n",
        "    \"\"\"\n",
        "    return (\"<bos> \" + headline + \" <eos>\").split()\n",
        "\n",
        "# Data field (column) representing our *text*.\n",
        "text_field = data.Field(\n",
        "    sequential=True,            # this field consists of a sequence\n",
        "    tokenize=tokenize_headline, # how to split sequences into words\n",
        "    include_lengths=True,       # to track the length of sequences, for batching\n",
        "    batch_first=True,           # similar to batch_first=True used in nn.RNN demonstrated in lecture\n",
        "    use_vocab=True)             # to turn each character into an integer index\n",
        "train_data = data.TabularDataset(\n",
        "    path=train_path,                # data file path\n",
        "    format=\"tsv\",                   # fields are separated by a tab\n",
        "    fields=[('title', text_field)]) # list of fields (we have only one)"
      ],
      "execution_count": null,
      "outputs": []
    },
    {
      "cell_type": "markdown",
      "metadata": {
        "id": "7TNlqCRM4KUF"
      },
      "source": [
        "### Part (a) -- 5%\n",
        "\n",
        "Draw histograms of the number of words per headline in our training set.\n",
        "Excluding the `<bos>` and `<eos>` tags in your computation.\n",
        "Explain why we would be interested in such histograms."
      ]
    },
    {
      "cell_type": "code",
      "metadata": {
        "id": "mBPd0ezl4KUG",
        "colab": {
          "base_uri": "https://localhost:8080/",
          "height": 330
        },
        "outputId": "5d749fb0-c36b-4150-9830-318d58c4e2ac"
      },
      "source": [
        "# Include your histogram and your written explanations\n",
        "\n",
        "headlines_len = [len(headline.title)-2 for headline in train_data]\n",
        "\n",
        "plt.hist(headlines_len, bins=25)\n",
        "plt.title(\"Number of words per headline\")\n",
        "plt.xlabel(\"Headlines length\")\n",
        "plt.ylabel(\"Num of headlines\")\n",
        "\n",
        "# Here are some sample code that uses the train_data object:\n",
        "print(train_data[5].title)\n",
        "for example in train_data:\n",
        "    print(example.title)\n",
        "    break"
      ],
      "execution_count": null,
      "outputs": [
        {
          "output_type": "stream",
          "name": "stdout",
          "text": [
            "['<bos>', 'u.s.', 'navy', 'pursuing', 'block', 'buy', 'of', 'two', 'aircraft', 'carriers', '-', 'senator', '<eos>']\n",
            "['<bos>', 'dems', 'move', 'to', 'end', 'shutdown', ',', 'without', 'wall', 'money', '<eos>']\n"
          ]
        },
        {
          "output_type": "display_data",
          "data": {
            "image/png": "[encoded data removed]",
            "text/plain": [
              "<Figure size 432x288 with 1 Axes>"
            ]
          },
          "metadata": {
            "needs_background": "light"
          }
        }
      ]
    },
    {
      "cell_type": "markdown",
      "metadata": {
        "id": "CWnes5SVRwxl"
      },
      "source": [
        "**Write your explanation here:**\n",
        "\n",
        "we are interested in such histograms because our auto-encoder is a seq-to-seq model, and it contains RNN, so the histogram of the input's length will help us to know how much we need to take in counts the past (the previus words). Moreover, we can see that the variance of the headlines length`s distribution is not high, therefore the padding wont be so dominant. \n",
        "This information helps us to batch the data into similar batch sizes, without padding too many words.\n",
        "If our model will contain much dominant sentence length, it will affect the model training and may bias the model to generate senteces with this length."
      ]
    },
    {
      "cell_type": "markdown",
      "metadata": {
        "id": "gm3ysTzh4KUG"
      },
      "source": [
        "### Part (b) -- 5%\n",
        "\n",
        "How many distinct words appear in the training data?\n",
        "Exclude the `<bos>` and `<eos>` tags in your computation."
      ]
    },
    {
      "cell_type": "code",
      "metadata": {
        "id": "2x5wf7h14KUG",
        "colab": {
          "base_uri": "https://localhost:8080/"
        },
        "outputId": "38b53f5a-43fc-4edf-b8c5-e4132759ef67"
      },
      "source": [
        "# Report your values here. Make sure that you report the actual values,\n",
        "# and not just the code used to get those values\n",
        "\n",
        "# You might find the python class Counter from the collections package useful\n",
        "\n",
        "from collections import Counter\n",
        "\n",
        "cnt = Counter()\n",
        "for headline in train_data:\n",
        "  cnt.update(headline.title)\n",
        "\n",
        "cnt.pop('<bos>')\n",
        "cnt.pop('<eos>')\n",
        "\n",
        "print(\"There are\",len(cnt),\"distinct words in the training data.\")"
      ],
      "execution_count": null,
      "outputs": [
        {
          "output_type": "stream",
          "name": "stdout",
          "text": [
            "There are 51298 distinct words in the training data.\n"
          ]
        }
      ]
    },
    {
      "cell_type": "markdown",
      "metadata": {
        "id": "e5lgEwiM4KUH"
      },
      "source": [
        "### Part (c) -- 5%\n",
        "\n",
        "The distribution of *words* will have a long tail, meaning that there are some words\n",
        "that will appear very often, and many words that will appear infrequently. How many words\n",
        "appear exactly once in the training set? Exactly twice?\n",
        "Print these numbers below"
      ]
    },
    {
      "cell_type": "code",
      "metadata": {
        "id": "RpkUDVoC4KUH",
        "colab": {
          "base_uri": "https://localhost:8080/"
        },
        "outputId": "7301baff-06a0-418c-df63-ffc09f779e05"
      },
      "source": [
        "# Report your values here. Make sure that you report the actual values,\n",
        "# and not just the code used to get those values\n",
        "print(\"Number of words that appear exactly once in the training set:\",Counter(cnt.values())[1])\n",
        "print(\"Number of words that appear exactly twice in the training set:\",Counter(cnt.values())[2])"
      ],
      "execution_count": null,
      "outputs": [
        {
          "output_type": "stream",
          "name": "stdout",
          "text": [
            "Number of words that appear exactly once in the training set: 19854\n",
            "Number of words that appear exactly twice in the training set: 7193\n"
          ]
        }
      ]
    },
    {
      "cell_type": "markdown",
      "metadata": {
        "id": "K3RKPwdI4KUI"
      },
      "source": [
        "### Part (d) -- 5%\n",
        "We will replace the infrequent\n",
        "words with an `<unk>` tag, instead of learning embeddings for these rare words. `torchtext` also provides us with the `<pad>` tag used for padding short sequences for batching.\n",
        "We will thus only model the top 9995 words in the training set, excluding the tags\n",
        "`<bos>`, `<eos>`, `<unk>`, and `<pad>`.\n",
        "\n",
        "What percentage of total word count(whole dataset) will be supported? Alternatively, what percentage\n",
        "of total word count(whole dataset) in the training set will be set to the `<unk>` tag?"
      ]
    },
    {
      "cell_type": "code",
      "metadata": {
        "id": "Cva5DC_64KUI",
        "colab": {
          "base_uri": "https://localhost:8080/"
        },
        "outputId": "9ffef8ef-1a0f-4bfa-bc33-9896fca077c8"
      },
      "source": [
        "# Report your values here. Make sure that you report the actual values,\n",
        "# and not just the code used to get those values\n",
        "\n",
        "support = sum([freq for _, freq in cnt.most_common(9995)])\n",
        "\n",
        "print(\"percentage of total word count(whole dataset) will be supported: \"+str(100 * support/sum(headlines_len))[:5]+\"%\")\n",
        "print(\"percentage of total word count(whole dataset) in the training set will be set to the <unk> tag: \"+str(100*(1 - support/sum(headlines_len)))[:5]+\"%\")\n"
      ],
      "execution_count": null,
      "outputs": [
        {
          "output_type": "stream",
          "name": "stdout",
          "text": [
            "percentage of total word count(whole dataset) will be supported: 93.97%\n",
            "percentage of total word count(whole dataset) in the training set will be set to the <unk> tag: 6.021%\n"
          ]
        }
      ]
    },
    {
      "cell_type": "markdown",
      "metadata": {
        "id": "SBV8CTyk4KUJ"
      },
      "source": [
        "The `torchtext` package will help us keep track of our list of unique words, known\n",
        "as a **vocabulary**. A vocabulary also assigns a unique integer index to each word."
      ]
    },
    {
      "cell_type": "code",
      "metadata": {
        "colab": {
          "base_uri": "https://localhost:8080/"
        },
        "id": "GRLFF8j14KUJ",
        "outputId": "c1001947-79e0-406c-c076-c9a668e737db"
      },
      "source": [
        "# Build the vocabulary based on the training data. The vocabulary\n",
        "# can have at most 9997 words (9995 words + the <bos> and <eos> token)\n",
        "text_field.build_vocab(train_data, max_size=9997)\n",
        "\n",
        "# This vocabulary object will be helpful for us\n",
        "vocab = text_field.vocab\n",
        "print(vocab.stoi[\"hello\"]) # for instances, we can convert from string to (unique) index\n",
        "print(vocab.itos[10])      # ... and from word index to string\n",
        "\n",
        "# The size of our vocabulary  \n",
        "vocab_size = len(text_field.vocab.stoi) \n",
        "\n",
        "\n",
        "# Here are the two tokens that torchtext adds for us:\n",
        "print(vocab.itos[0]) # <unk> represents an unknown word not in our vocabulary\n",
        "print(vocab.itos[1]) # <pad> will be used to pad short sequences for batching   "
      ],
      "execution_count": null,
      "outputs": [
        {
          "output_type": "stream",
          "name": "stdout",
          "text": [
            "0\n",
            "on\n",
            "<unk>\n",
            "<pad>\n"
          ]
        }
      ]
    },
    {
      "cell_type": "markdown",
      "metadata": {
        "id": "bnoMpzC14KUK"
      },
      "source": [
        "## Question 2. Text Autoencoder (40%)\n",
        "\n",
        "Building a text autoencoder is a little more complicated than an image autoencoder like we did in class. So\n",
        "we will need to thoroughly understand the model that we want to build before actually building it. Note that the best and fastest way to complete this assignment is to spend time upfront understanding the architecture. The explanations are quite dense, but it is important to understand the operation of this model. The rationale here is similar in nature to the `seq2seq` RNN model we discussed in class, only we are dealing with unsupervised learning here rather than machine translation. \n",
        "\n",
        "# Architecture description\n",
        "Here is a diagram showing our desired architecture:\n",
        "\n",
        "<img src='https://drive.google.com/uc?id=1UaXAYQvmFbBcuSBQb7ozjSliuVn7bP1Q'>\n",
        "\n",
        "There are two main components to the model: the **encoder** and the **decoder**.\n",
        "As always with neural networks, we'll first describe how to make\n",
        "**predictions** with of these components. Let's get started:\n",
        "\n",
        "The **encoder** will take a sequence of words (a headline) as *input*, and produce an\n",
        "embedding (a vector) that represents the entire headline. In the diagram above,\n",
        "the vector ${\\bf h}^{(7)}$ is the vector embedding containing information about \n",
        "the entire headline.  This portion is very similar\n",
        "to the sentiment analysis RNN that we discussed in lecture (but without the fully-connected\n",
        "layer that makes a prediction).\n",
        "\n",
        "The **decoder** will take an embedding (in the diagram, the vector ${\\bf h}^{(7)}$) as input,\n",
        "and uses a separate RNN to **generate a sequence of words**. To generate a sequence of words,\n",
        "the decoder needs to do the following:\n",
        "\n",
        "\n",
        "1.   Determine the previous word that was generated. This previous word will act as ${\\bf x}^{(t)}$\n",
        "   to our RNN, and will be used to update the hidden state ${\\bf m}^{(t)}$. Since each of our\n",
        "   sequences begin with the `<bos>` token, we'll set ${\\bf x}^{(1)}$ to be the `<bos>` token.\n",
        "2.   Compute the updates to the hidden state ${\\bf m}^{(t)}$ based on the previous hidden state\n",
        "   ${\\bf m}^{(t-1)}$ and ${\\bf x}^{(t)}$. Intuitively, this hidden state vector ${\\bf m}^{(t)}$\n",
        "   is a representation of *all the words we still need to generate*.\n",
        "3. We'll use a fully-connected layer to take a hidden state ${\\bf m}^{(t)}$, and determine\n",
        "   *what the next word should be*. This fully-connected layer solves a *classification problem*,\n",
        "   since we are trying to choose a word out of $K=$ `vocab_size` distinct words. As in a classification\n",
        "   problem, the fully-connected neural network will compute a *probability distribution* over\n",
        "   these `vocab_size` words. In the diagram, we are using ${\\bf z}^{(t)}$ to represent the logits,\n",
        "   or the pre-softmax activation values representing the probability distribution.\n",
        "4. We will need to *sample* an actual word from this probability distribution ${\\bf z}^{(t)}$.\n",
        "   We can do this in a number of ways, which we'll discuss in question 3. For now, you can \n",
        "   imagine your favourite way of picking a word given a distribution over words.\n",
        "5. This word we choose will become the next input ${\\bf x}^{(t+1)}$ to our RNN, which is used\n",
        "   to update our hidden state ${\\bf m}^{(t+1)}$, i.e., to determine what are the remaining\n",
        "   words to be generated.\n",
        "\n",
        "We can repeat this process until we see an `<eos>` token generated, or until the generated\n",
        "sequence becomes too long.\n",
        "\n",
        "# Training the architecture\n",
        "While our autoencoder produces a sequence, computing the loss by comparing the complete generated sequence to the ground truth (the encoder input) gives rise to multiple challanges. One is that the generated\n",
        "sequence might be longer or shorter than the actual sequence, meaning that there may\n",
        "be more/fewer ${\\bf z}^{(t)}$s than ground-truth words. Another more insidious issue\n",
        "is that the **gradients will become very high-variance and unstable**, because\n",
        "**early mistakes will easily throw the model off-track**. Early in training,\n",
        "our model is unlikely to produce the right answer in step $t=1$, so the gradients\n",
        "we obtain based on the other time steps will not be very useful.\n",
        "\n",
        "At this point, you might have some ideas about \"hacks\" we can use to make training\n",
        "work. Fortunately, there is one very well-established solution called\n",
        "**teacher forcing** which we can use for training:\n",
        "instead of *sampling* the next word based on ${\\bf z}^{(t)}$, we will forget sampling,\n",
        "and use the **ground truth** ${\\bf x}^{(t)}$ as the input in the next step.\n",
        "\n",
        "Here is a diagram showing how we can use **teacher forcing** to train our model:\n",
        " \n",
        "<img src='https://drive.google.com/uc?id=1NXlimWaCviDfP8DHlIzyQR1Ie7sxfPuY'>\n",
        "\n",
        "We will use the RNN generator to compute the logits\n",
        "${\\bf z}^{(1)},{\\bf z}^{(2)},  \\cdots {\\bf z}^{(T)}$. These distributions\n",
        "can be compared to the ground-truth words using the cross-entropy loss.\n",
        "The loss function for this model will be the sum of the losses across each $t \\in \\{1,\\ldots,T\\}$.\n",
        "\n",
        "We'll train the encoder and decoder model simultaneously. There are several components\n",
        "to our model that contain tunable weights:\n",
        "\n",
        "- The word embedding that maps a word to a vector representation.\n",
        "  In theory, we could use GloVe embeddings, as we did in class. In this assignment we will not do that, but learn the word embedding from data.\n",
        "  The word embedding component is represented with blue arrows in the diagram.\n",
        "- The encoder RNN (which will use GRUs) that computes the\n",
        "  embedding over the entire headline. The encoder RNN \n",
        "  is represented with black arrows in the diagram.\n",
        "- The decoder RNN (which will also use GRUs) that computes\n",
        "  hidden states, which are vectors representing what words are to be generated.\n",
        "  The decoder RNN is represented with gray arrows in the diagram.\n",
        "- The **projection MLP** (a fully-connected layer) that computes\n",
        "  a distribution over the next word to generate, given a decoder RNN hidden\n",
        "  state. The projection is represented with green arrows \n"
      ]
    },
    {
      "cell_type": "markdown",
      "metadata": {
        "id": "Dk9WDEC90ScA"
      },
      "source": [
        "\n",
        "## Part (a) -- 20%\n",
        "\n",
        "Complete the code for the AutoEncoder class below by:\n",
        "\n",
        "1. Filling in the missing numbers in the `__init__` method using\n",
        "   the parameters `vocab_size`, `emb_size`, and `hidden_size`.  \n",
        "2. Complete the `forward` method, which uses teacher forcing\n",
        "   and computes the logits ${\\bf z}^{(t)}$ of the reconstruction of\n",
        "   the sequence. \n",
        "\n",
        "You should first try to understand the `encode` and `decode` methods,\n",
        "which are written for you. The `encode` method bears much similarity to the\n",
        "RNN we wrote in class for sentiment analysis.  The `decode` method is\n",
        "a bit more challenging. You might want to scroll down to the\n",
        "`sample_sequence` function to see how this function will be called.\n",
        "\n",
        "You can (but don't have to) use the `encode` and `decode` method in\n",
        "your `forward` method. In either case, be careful of the input\n",
        "that you feed into ether `decode` or to `self.decoder_rnn`.\n",
        "Refer to the teacher-forcing diagram.\n",
        "**bold text** Notice that batch_first is set to True, understand how deal with it."
      ]
    },
    {
      "cell_type": "code",
      "metadata": {
        "id": "ey4tslhD4KUO"
      },
      "source": [
        "class AutoEncoder(nn.Module):\n",
        "    def __init__(self, vocab_size, emb_size, hidden_size):\n",
        "        \"\"\"\n",
        "        A text autoencoder. The parameters \n",
        "            - vocab_size: number of unique words/tokens in the vocabulary\n",
        "            - emb_size: size of the word embeddings $x^{(t)}$\n",
        "            - hidden_size: size of the hidden states in both the\n",
        "                           encoder RNN ($h^{(t)}$) and the\n",
        "                           decoder RNN ($m^{(t)}$)\n",
        "        \"\"\"\n",
        "        super().__init__()\n",
        "        self.embed = nn.Embedding(num_embeddings=vocab_size, # TODO\n",
        "                                  embedding_dim=emb_size)  # TODO\n",
        "        self.encoder_rnn = nn.GRU(input_size=emb_size, #TODO\n",
        "                                  hidden_size=hidden_size, #TODO\n",
        "                                  batch_first=True)\n",
        "        self.decoder_rnn = nn.GRU(input_size=emb_size, #TODO\n",
        "                                  hidden_size=hidden_size, #TODO\n",
        "                                  batch_first=True)\n",
        "        self.proj = nn.Linear(in_features=hidden_size, # TODO\n",
        "                              out_features=vocab_size) # TODO\n",
        "\n",
        "    def encode(self, inp):\n",
        "        \"\"\"\n",
        "        Computes the encoder output given a sequence of words.\n",
        "        \"\"\"\n",
        "        emb = self.embed(inp)\n",
        "        out, last_hidden = self.encoder_rnn(emb)\n",
        "        return last_hidden\n",
        "\n",
        "    def decode(self, inp, hidden=None):\n",
        "        \"\"\"\n",
        "        Computes the decoder output given a sequence of words, and\n",
        "        (optionally) an initial hidden state.\n",
        "        \"\"\"\n",
        "        emb = self.embed(inp)\n",
        "        out, last_hidden = self.decoder_rnn(emb, hidden)\n",
        "        out_seq = self.proj(out)\n",
        "        return out_seq, last_hidden\n",
        "\n",
        "    def forward(self, inp):\n",
        "        \"\"\"\n",
        "        Compute both the encoder and decoder forward pass\n",
        "        given an integer input sequence inp with shape [batch_size, seq_length],\n",
        "        with inp[a,b] representing the (index in our vocabulary of) the b-th word\n",
        "        of the a-th training example.\n",
        "\n",
        "        This function should return the logits $z^{(t)}$ in a tensor of shape\n",
        "        [batch_size, seq_length - 1, vocab_size], computed using *teaching forcing*.\n",
        "\n",
        "        The (seq_length - 1) part is not a typo. If you don't understand why\n",
        "        we need to subtract 1, refer to the teacher-forcing diagram above.\n",
        "        \"\"\"\n",
        "        last_hidden = self.encode(inp)\n",
        "        out_seq, last_hidden = self.decode(inp[:,:-1], last_hidden) \n",
        "        # -1 because <eos> isnt input\n",
        "        return out_seq\n",
        "        "
      ],
      "execution_count": null,
      "outputs": []
    },
    {
      "cell_type": "markdown",
      "metadata": {
        "id": "_uwpjvIw4KUQ"
      },
      "source": [
        "### Part (b) -- 10%\n",
        "\n",
        "To check that your model is set up correctly, we'll train our autoencoder\n",
        "neural network for at least 300 iterations to memorize this sequence:"
      ]
    },
    {
      "cell_type": "code",
      "metadata": {
        "id": "sJmPNMnY4KUQ"
      },
      "source": [
        "headline = train_data[42].title\n",
        "input_seq = torch.Tensor([vocab.stoi[w] for w in headline]).long().unsqueeze(0)"
      ],
      "execution_count": null,
      "outputs": []
    },
    {
      "cell_type": "markdown",
      "metadata": {
        "id": "Qj55uU-C4KUQ"
      },
      "source": [
        "We are looking for the way that you set up your loss function\n",
        "corresponding to the figure above.\n",
        "Be  careful of off-by-one errors here.\n",
        "\n",
        "\n",
        "Note that the Cross Entropy Loss expects a rank-2 tensor as its first\n",
        "argument (the output of the network), and a rank-1 tensor as its second argument (the true label). You will\n",
        "need to properly reshape your data to be able to compute the loss."
      ]
    },
    {
      "cell_type": "code",
      "metadata": {
        "id": "aScYWbBx4KUQ",
        "colab": {
          "base_uri": "https://localhost:8080/"
        },
        "outputId": "584ca697-0eba-4f41-deea-965f56aa90fd"
      },
      "source": [
        "model = AutoEncoder(vocab_size, 128, 128)\n",
        "optimizer = optim.Adam(model.parameters(), lr=0.001)\n",
        "criterion = nn.CrossEntropyLoss()\n",
        "\n",
        "for it in range(300):\n",
        "    output = model(input_seq)\n",
        "    loss = criterion(output.squeeze(0).double(),input_seq[0,1:])\n",
        "    optimizer.zero_grad()\n",
        "    loss.backward()\n",
        "    optimizer.step()\n",
        "\n",
        "    if (it+1) % 50 == 0:\n",
        "        print(\"[Iter %d] Loss %f\" % (it+1, float(loss)))\n"
      ],
      "execution_count": null,
      "outputs": [
        {
          "output_type": "stream",
          "name": "stdout",
          "text": [
            "[Iter 50] Loss 0.111175\n",
            "[Iter 100] Loss 0.028504\n",
            "[Iter 150] Loss 0.017759\n",
            "[Iter 200] Loss 0.012393\n",
            "[Iter 250] Loss 0.009225\n",
            "[Iter 300] Loss 0.007190\n"
          ]
        }
      ]
    },
    {
      "cell_type": "code",
      "source": [
        "print(\"original headline is: \", headline)\n",
        "print(\"restored headline is: \",[vocab.itos[idx] for idx in model(input_seq).squeeze(0).max(1,keepdim=True)[1].squeeze()])"
      ],
      "metadata": {
        "colab": {
          "base_uri": "https://localhost:8080/"
        },
        "id": "45G-Zf4Fb4SA",
        "outputId": "173fb315-d192-4e83-9a68-b6458d94dfc1"
      },
      "execution_count": null,
      "outputs": [
        {
          "output_type": "stream",
          "name": "stdout",
          "text": [
            "original headline is:  ['<bos>', 'zambian', 'president', 'swears', 'in', 'new', 'army', 'chief', '<eos>']\n",
            "restored headline is:  ['zambian', 'president', 'swears', 'in', 'new', 'army', 'chief', '<eos>']\n"
          ]
        }
      ]
    },
    {
      "cell_type": "markdown",
      "metadata": {
        "id": "SWKYC3z34KUR"
      },
      "source": [
        "### Part (c) -- 4%\n",
        "\n",
        "Once you are satisfied with your model, encode your input using\n",
        "the RNN encoder, and sample some sequences from the decoder. The \n",
        "sampling code is provided to you, and performs the computation\n",
        "from the first diagram (without teacher forcing).\n",
        "\n",
        "Note that we are sampling from a multi-nomial distribution described\n",
        "by the logits $z^{(t)}$. For example, if our distribution is [80%, 20%]\n",
        "over a vocabulary of two words, then we will choose the first word\n",
        "with 80% probability and the second word with 20% probability.\n",
        "\n",
        "Call `sample_sequence` at least 5 times, with the default temperature\n",
        "value. Make sure to include the generated sequences in your PDF\n",
        "report."
      ]
    },
    {
      "cell_type": "code",
      "metadata": {
        "id": "6vjVvmn14KUR",
        "colab": {
          "base_uri": "https://localhost:8080/"
        },
        "outputId": "43f6735e-bbc9-472c-88e4-0336f8f28848"
      },
      "source": [
        "def sample_sequence(model, hidden, max_len=20, temperature=1):\n",
        "    \"\"\"\n",
        "    Return a sequence generated from the model's decoder\n",
        "        - model: an instance of the AutoEncoder model\n",
        "        - hidden: a hidden state (e.g. computed by the encoder)\n",
        "        - max_len: the maximum length of the generated sequence\n",
        "        - temperature: described in Part (d)\n",
        "    \"\"\"\n",
        "    # We'll store our generated sequence here\n",
        "    generated_sequence = []\n",
        "    # Set input to the <BOS> token\n",
        "    inp = torch.Tensor([text_field.vocab.stoi[\"<bos>\"]]).long()\n",
        "    for p in range(max_len):\n",
        "        # compute the output and next hidden unit\n",
        "        output, hidden = model.decode(inp.unsqueeze(0), hidden)\n",
        "        # Sample from the network as a multinomial distribution\n",
        "        output_dist = output.data.view(-1).div(temperature).exp()\n",
        "        top_i = int(torch.multinomial(output_dist, 1)[0])\n",
        "        # Add predicted word to string and use as next input\n",
        "        word = text_field.vocab.itos[top_i]\n",
        "        # Break early if we reach <eos>\n",
        "        if word == \"<eos>\":\n",
        "            break\n",
        "        generated_sequence.append(word)\n",
        "        inp = torch.Tensor([top_i]).long()\n",
        "    return generated_sequence\n",
        "\n",
        "# Your solutions go here\n",
        "for i in range(5):\n",
        "  headline = train_data[i+30].title\n",
        "  print(\"original seq: \",headline)\n",
        "  input_seq = torch.Tensor([vocab.stoi[w] for w in headline]).long().unsqueeze(0)\n",
        "  hidden = model.encode(input_seq)\n",
        "  print(\"restored seq: \", sample_sequence(model, hidden, max_len=20, temperature=1),\"\\n\")"
      ],
      "execution_count": null,
      "outputs": [
        {
          "output_type": "stream",
          "name": "stdout",
          "text": [
            "original seq:  ['<bos>', 'refile-macau', 'casinos', 'rake', 'in', '$', '_num_', 'bln', 'gaming', 'revenue', 'in', '_num_', '<eos>']\n",
            "restored seq:  ['zambian', 'president', 'swears', 'in', 'new', 'army', 'chief'] \n",
            "\n",
            "original seq:  ['<bos>', 'murray', 'makes', 'winning', 'return', 'in', 'brisbane', 'after', 'hip', 'injury', '<eos>']\n",
            "restored seq:  ['zambian', 'president', 'swears', 'in', 'new', 'army', 'chief'] \n",
            "\n",
            "original seq:  ['<bos>', 'nasa', 'probe', 'believed', 'to', 'have', 'passed', 'distant', 'space', 'rock', 'on', 'landmark', 'mission', '<eos>']\n",
            "restored seq:  ['zambian', 'president', 'swears', 'in', 'new', 'army', 'chief'] \n",
            "\n",
            "original seq:  ['<bos>', 'soccer-qatar', 'capable', 'of', 'going', 'deep', 'in', 'asian', 'cup', ',', 'says', 'al-haydos', '<eos>']\n",
            "restored seq:  ['zambian', 'president', 'swears', 'in', 'new', 'army', 'chief'] \n",
            "\n",
            "original seq:  ['<bos>', 'thai', 'king', 'to', 'be', 'crowned', 'in', 'coronation', 'ceremonies', 'may', '_num_-6', '<eos>']\n",
            "restored seq:  ['zambian', 'president', 'swears', 'in', 'new', 'army', 'chief'] \n",
            "\n"
          ]
        }
      ]
    },
    {
      "cell_type": "markdown",
      "metadata": {
        "id": "0T7gcPnn4KUR"
      },
      "source": [
        "### Part (d) -- 6%\n",
        "\n",
        "The multi-nomial distribution can be manipulated using the `temperature`\n",
        "setting. This setting can be used to make the distribution \"flatter\" (e.g.\n",
        "more likely to generate different words) or \"peakier\" (e.g. less likely\n",
        "to generate different words).\n",
        "\n",
        "Call `sample_sequence` at least 5 times each for at least 3 different\n",
        "temperature settings (e.g. 1.5, 2, and 5). Explain why we generally\n",
        "don't want the temperature setting to be too **large**."
      ]
    },
    {
      "cell_type": "markdown",
      "source": [
        "Explain:\n",
        "After training the model (even for memorizing one sentence in previous section) we have a words distribution that the model is smapling from in order to generate the new sentence. We generally don't want the temperature setting to be too large because then the distribution will be \"flat\" that no matter what sequence we will give to the model, the predicted sequence will be merely random. As we can see from the example below, in case of temperature high (lets say 5) the predicted sequence look like a random sequence without any meaning.\n",
        "If the temperature is low, the sampler will be more conservative - sticking more to those very likely tokens. On the other hand, if the temperature is high - less likely tokens will have a relatively higher likelihood - therefore, there is a bigger chance they will be selected."
      ],
      "metadata": {
        "id": "NJsazJ_xfNL1"
      }
    },
    {
      "cell_type": "code",
      "metadata": {
        "id": "jA_S0cmE4KUR",
        "colab": {
          "base_uri": "https://localhost:8080/"
        },
        "outputId": "45dfe644-657f-486e-fd58-d0dcb99a8f97"
      },
      "source": [
        "# Include the generated sequences and explanation in your PDF report.\n",
        "temperature = [1,1.5,3,5]\n",
        "for temp in temperature:\n",
        "  print(\"Temperature:\", temp)\n",
        "  for i in range(5):\n",
        "    headline = train_data[i+30].title\n",
        "    print(\"original seq:\",headline)\n",
        "    input_seq = torch.Tensor([vocab.stoi[w] for w in headline]).long().unsqueeze(0)\n",
        "    hidden = model.encode(input_seq)\n",
        "    print(\"restored seq:\", sample_sequence(model, hidden, max_len=20, temperature=temp),\"\\n\")"
      ],
      "execution_count": null,
      "outputs": [
        {
          "output_type": "stream",
          "name": "stdout",
          "text": [
            "Temperature: 1\n",
            "original seq: ['<bos>', 'refile-macau', 'casinos', 'rake', 'in', '$', '_num_', 'bln', 'gaming', 'revenue', 'in', '_num_', '<eos>']\n",
            "restored seq: ['zambian', 'president', 'swears', 'in', 'new', 'army', 'chief'] \n",
            "\n",
            "original seq: ['<bos>', 'murray', 'makes', 'winning', 'return', 'in', 'brisbane', 'after', 'hip', 'injury', '<eos>']\n",
            "restored seq: ['zambian', 'president', 'swears', 'in', 'new', 'army', 'chief'] \n",
            "\n",
            "original seq: ['<bos>', 'nasa', 'probe', 'believed', 'to', 'have', 'passed', 'distant', 'space', 'rock', 'on', 'landmark', 'mission', '<eos>']\n",
            "restored seq: ['zambian', 'president', 'swears', 'in', 'new', 'army', 'chief'] \n",
            "\n",
            "original seq: ['<bos>', 'soccer-qatar', 'capable', 'of', 'going', 'deep', 'in', 'asian', 'cup', ',', 'says', 'al-haydos', '<eos>']\n",
            "restored seq: ['zambian', 'president', 'swears', 'in', 'new', 'army', 'chief'] \n",
            "\n",
            "original seq: ['<bos>', 'thai', 'king', 'to', 'be', 'crowned', 'in', 'coronation', 'ceremonies', 'may', '_num_-6', '<eos>']\n",
            "restored seq: ['zambian', 'president', 'swears', 'in', 'new', 'army', 'chief'] \n",
            "\n",
            "Temperature: 1.5\n",
            "original seq: ['<bos>', 'refile-macau', 'casinos', 'rake', 'in', '$', '_num_', 'bln', 'gaming', 'revenue', 'in', '_num_', '<eos>']\n",
            "restored seq: ['zambian', 'president', 'transneft', 'in', 'into', 'founding', 'swears', 'pension', 'in', 'new', 'barcelona'] \n",
            "\n",
            "original seq: ['<bos>', 'murray', 'makes', 'winning', 'return', 'in', 'brisbane', 'after', 'hip', 'injury', '<eos>']\n",
            "restored seq: ['zambian', 'president', 'new', 'army', 'chief'] \n",
            "\n",
            "original seq: ['<bos>', 'nasa', 'probe', 'believed', 'to', 'have', 'passed', 'distant', 'space', 'rock', 'on', 'landmark', 'mission', '<eos>']\n",
            "restored seq: ['wrongdoing', 'predicts', 'in', 'new', 'army', 'mitsubishi', 'tour', 'libor', 'ministry', 'elon', 'returns', 'children', 'fortunes', 'strategic', 'in', 'new', 'army', 'chief'] \n",
            "\n",
            "original seq: ['<bos>', 'soccer-qatar', 'capable', 'of', 'going', 'deep', 'in', 'asian', 'cup', ',', 'says', 'al-haydos', '<eos>']\n",
            "restored seq: ['zambian', 'president', 'swears', 'in', 'belarus', '_num_-australian', 'watch', 'take', 'sound', 'bertens', 'hunter', '_num_-occidental', 'america', 'arthur', 'in', 'new', 'raps', 'platforms', 'committees', 'retaliate'] \n",
            "\n",
            "original seq: ['<bos>', 'thai', 'king', 'to', 'be', 'crowned', 'in', 'coronation', 'ceremonies', 'may', '_num_-6', '<eos>']\n",
            "restored seq: ['zambian', 'president', 'swears', 'kraft', 'w', 'new', 'army', 'already', 'in', 'new', 'army', 'chief'] \n",
            "\n",
            "Temperature: 3\n",
            "original seq: ['<bos>', 'refile-macau', 'casinos', 'rake', 'in', '$', '_num_', 'bln', 'gaming', 'revenue', 'in', '_num_', '<eos>']\n",
            "restored seq: ['gaming', 'xinhua', 'structural', 'exclusion', 'throws', 'cross-border', 'indigenous', 'kerr', 'renews', 'canadians', 'strongly', 'down', 'japan-south', 'ratify', 'buffalo', 'tea', 'euros', 'pitt', 'bloodshed', 'texts'] \n",
            "\n",
            "original seq: ['<bos>', 'murray', 'makes', 'winning', 'return', 'in', 'brisbane', 'after', 'hip', 'injury', '<eos>']\n",
            "restored seq: ['deportation', 'hotels', 'collapsed', 'false', 'current-quarter', 'contested', 'regains', 'tours', 'roster', 'spotify', 'prominent', 'national', 'trading', 'plotting', 'bmw', 'guests', 'constitutional', 'ivory', 'thrown', 'supports'] \n",
            "\n",
            "original seq: ['<bos>', 'nasa', 'probe', 'believed', 'to', 'have', 'passed', 'distant', 'space', 'rock', 'on', 'landmark', 'mission', '<eos>']\n",
            "restored seq: ['woos', 'nokia', 'observatory', 'assad', 'accusations', 'rent', 're-elected', 'irregularities', 'dow', 'offshore', 'undergo', 'approving', 'esg', '_num_-mexico', 'ted', 'ad', 'is', '_num_-bristol-myers', 'garrett', 'ey'] \n",
            "\n",
            "original seq: ['<bos>', 'soccer-qatar', 'capable', 'of', 'going', 'deep', 'in', 'asian', 'cup', ',', 'says', 'al-haydos', '<eos>']\n",
            "restored seq: ['holding', 'etfs', '_num_-cn', 'leviathan', 'jeremy', 'solid', 'lapses', '_num_-brexit', 'advances', 'author', 'operations', 'bird', 'fitness', 'values', 'clouds', 'lingering', 'travellers', 'light', 'ontario', 'walk-off'] \n",
            "\n",
            "original seq: ['<bos>', 'thai', 'king', 'to', 'be', 'crowned', 'in', 'coronation', 'ceremonies', 'may', '_num_-6', '<eos>']\n",
            "restored seq: ['data', 'intended', '3rd', 'restoration', 'relation', 'damages', 'frustration', 'exodus', 'assad', 'denver', 'loved', 'buffalo', 'admissions', 'leclerc', 'flooding', 'facing', 'shoulder', 'rogers', 'sparking', '_num_-at'] \n",
            "\n",
            "Temperature: 5\n",
            "original seq: ['<bos>', 'refile-macau', 'casinos', 'rake', 'in', '$', '_num_', 'bln', 'gaming', 'revenue', 'in', '_num_', '<eos>']\n",
            "restored seq: ['<bos>', 'announce', 'giuliani', 'ibrahimovic', '_num_-france', 'beats', 'assange', 'patients', 'interior', 'anything', 'prison', 'sacrifice', 'his', 'f-35', '_num_-china', 'wildfires', 'processing', 'privatisation', 'france-klm', 'turned'] \n",
            "\n",
            "original seq: ['<bos>', 'murray', 'makes', 'winning', 'return', 'in', 'brisbane', 'after', 'hip', 'injury', '<eos>']\n",
            "restored seq: ['conflicts', 'medicine', 'offset', 'wynn', 'failing', 'francis', 'pins', 'ruled', 'transcript', 'assault', 'judges', '_num_-chinese', 'breach', 'district', 'fold', 'confronts', 'reducing', 'aware', 'say', 'lingering'] \n",
            "\n",
            "original seq: ['<bos>', 'nasa', 'probe', 'believed', 'to', 'have', 'passed', 'distant', 'space', 'rock', 'on', 'landmark', 'mission', '<eos>']\n",
            "restored seq: ['ags', 'kickback', 'pregnancy', 'comedian', 'brace', 'suffer', 'smucker', 'planes', 'spiegel', 'once', 'grinds', 'truce', 'steelmaker', 'credible', 'stoke', 'outperforms', 'wide', 'advisor', 'subpoena', 'td'] \n",
            "\n",
            "original seq: ['<bos>', 'soccer-qatar', 'capable', 'of', 'going', 'deep', 'in', 'asian', 'cup', ',', 'says', 'al-haydos', '<eos>']\n",
            "restored seq: ['reinsurance', 'tariff', 'aluminium', 'party', 'reactions', 'never', 'impeachment', 'emission', 'aides', 'ramadan', 'content', 'linked', 'r.', 'choppy', 'bln-', 'nov.', 'frictions', 'discipline', 'oregon', 'date'] \n",
            "\n",
            "original seq: ['<bos>', 'thai', 'king', 'to', 'be', 'crowned', 'in', 'coronation', 'ceremonies', 'may', '_num_-6', '<eos>']\n",
            "restored seq: ['employee', 'bosnia', 'fourteen', 'provincial', 'lng', 'stocks-dubai', 'autism', 'minister', 'speak', 'orbit', 'mester', 'nielsen', 'forgotten', 'affiliate', 'button', 'tape', 'hurt', 'g7', 'premature', 'legislature'] \n",
            "\n"
          ]
        }
      ]
    },
    {
      "cell_type": "markdown",
      "metadata": {
        "id": "ZK4ptUb54KUS"
      },
      "source": [
        "## Question 3. Data augmentation (20%)\n",
        "\n",
        "It turns out that getting good results from a text auto-encoder is very difficult,\n",
        "and that it is very easy for our model to **overfit**. We have discussed several methods\n",
        "that we can use to prevent overfitting, and we'll introduce one more today:\n",
        "**data augmentation**.\n",
        "\n",
        "The idea behind data augmentation is to artificially increase the number of training\n",
        "examples by \"adding noise\" to the image. For example, during AlexNet training,\n",
        "the authors randomly cropped $224\\times 224$\n",
        "regions of a $256 \\times 256$ pixel image to increase the amount of training data.\n",
        "The authors also flipped the image left/right.\n",
        "Machine learning practitioners can also add Gaussian noise to the image.\n",
        "\n",
        "When we use data augmentation to train an *autoencoder*, we typically to only add\n",
        "the noise to the input, and expect the reconstruction to be *noise free*.\n",
        "This makes the task of the autoencoder even more difficult. An autoencoder trained\n",
        "with noisy inputs is called a **denoising auto-encoder**. For simplicity, we will\n",
        "*not* build a denoising autoencoder today.\n",
        "\n"
      ]
    },
    {
      "cell_type": "markdown",
      "metadata": {
        "id": "yieWyWqS4KUS"
      },
      "source": [
        "### Part (a) -- 5%\n",
        "\n",
        "We will add noise to our headlines using a few different techniques:\n",
        "\n",
        "1. Shuffle the words in the headline, taking care that words don't end up too far from where they were initially\n",
        "2. Drop (remove) some words \n",
        "3. Replace some words with a blank word (a `<pad>` token)\n",
        "4. Replace some words with a random word \n",
        "\n",
        "The code for adding these types of noise is provided for you:"
      ]
    },
    {
      "cell_type": "code",
      "metadata": {
        "id": "IGb3uL5U4KUS"
      },
      "source": [
        "def tokenize_and_randomize(headline,\n",
        "                           drop_prob=0.1,  # probability of dropping a word\n",
        "                           blank_prob=0.1, # probability of \"blanking\" out a word\n",
        "                           sub_prob=0.1,   # probability of substituting a word with a random one\n",
        "                           shuffle_dist=3): # maximum distance to shuffle a word\n",
        "    \"\"\"\n",
        "    Add 'noise' to a headline by slightly shuffling the word order,\n",
        "    dropping some words, blanking out some words (replacing with the <pad> token)\n",
        "    and substituting some words with random ones.\n",
        "    \"\"\"\n",
        "    headline = [vocab.stoi[w] for w in headline.split()]\n",
        "    n = len(headline)\n",
        "    # shuffle\n",
        "    headline = [headline[i] for i in get_shuffle_index(n, shuffle_dist)]\n",
        "\n",
        "    new_headline = [vocab.stoi['<bos>']]\n",
        "    for w in headline:\n",
        "        if random.random() < drop_prob:\n",
        "            # drop the word\n",
        "            pass\n",
        "        elif random.random() < blank_prob:\n",
        "            # replace with blank word\n",
        "            new_headline.append(vocab.stoi[\"<pad>\"])\n",
        "        elif random.random() < sub_prob:\n",
        "            # substitute word with another word\n",
        "            new_headline.append(random.randint(0, vocab_size - 1))\n",
        "        else:\n",
        "            # keep the original word\n",
        "            new_headline.append(w)\n",
        "    new_headline.append(vocab.stoi['<eos>'])\n",
        "    return new_headline\n",
        "\n",
        "def get_shuffle_index(n, max_shuffle_distance):\n",
        "    \"\"\" This is a helper function used to shuffle a headline with n words,\n",
        "    where each word is moved at most max_shuffle_distance. The function does\n",
        "    the following: \n",
        "       1. start with the *unshuffled* index of each word, which\n",
        "          is just the values [0, 1, 2, ..., n]\n",
        "       2. perturb these \"index\" values by a random floating-point value between\n",
        "          [0, max_shuffle_distance]\n",
        "       3. use the sorted position of these values as our new index\n",
        "    \"\"\"\n",
        "    index = np.arange(n)\n",
        "    perturbed_index = index + np.random.rand(n) * 3\n",
        "    new_index = sorted(enumerate(perturbed_index), key=lambda x: x[1])\n",
        "    return [index for (index, pert) in new_index]"
      ],
      "execution_count": null,
      "outputs": []
    },
    {
      "cell_type": "markdown",
      "metadata": {
        "id": "h8t6eZgy4KUT"
      },
      "source": [
        "Call the function `tokenize_and_randomize` 5 times on a headline of your\n",
        "choice. Make sure to include both your original headline, and the five new\n",
        "headlines in your report."
      ]
    },
    {
      "cell_type": "code",
      "metadata": {
        "id": "CktsYMIE4KUT",
        "colab": {
          "base_uri": "https://localhost:8080/"
        },
        "outputId": "7c038e2a-c96b-4ab9-ad35-c8d318720c5b"
      },
      "source": [
        "# Report your values here. Make sure that you report the actual values,\n",
        "# and not just the code used to get those values\n",
        "headline = train_data[17].title\n",
        "print(\"Original headline:\",headline)\n",
        "\n",
        "for i in range(5):\n",
        "  prob = i*0.1\n",
        "  print(\"After tokenize_and_randomize:\", [vocab.itos[x] for x in tokenize_and_randomize(' '.join(headline[1:-1]),prob,prob,prob)])"
      ],
      "execution_count": null,
      "outputs": [
        {
          "output_type": "stream",
          "name": "stdout",
          "text": [
            "Original headline: ['<bos>', 'netflix', 'poaches', 'cfo', 'from', 'activision', 'blizzard', '-', 'source', '<eos>']\n",
            "After tokenize_and_randomize: ['<bos>', 'poaches', 'netflix', 'cfo', 'activision', 'from', 'blizzard', 'source', '-', '<eos>']\n",
            "After tokenize_and_randomize: ['<bos>', 'netflix', 'poaches', 'cfo', 'from', 'activision', 'blizzard', '-', 'source', '<eos>']\n",
            "After tokenize_and_randomize: ['<bos>', 'u.n', '<pad>', 'from', '<pad>', '<pad>', '<eos>']\n",
            "After tokenize_and_randomize: ['<bos>', 'netflix', 'divers', '<pad>', 'activision', 'celebrates', '<eos>']\n",
            "After tokenize_and_randomize: ['<bos>', '<pad>', 'activision', '<eos>']\n"
          ]
        }
      ]
    },
    {
      "cell_type": "markdown",
      "metadata": {
        "id": "rHKlJr_m4KUT"
      },
      "source": [
        "### Part (b) -- 8%\n",
        "\n",
        "The training code that we use to train the model is mostly provided for you. \n",
        "The only part we left blank are the parts from Q2(b). Complete the code,\n",
        "and train a new AutoEncoder model for 1 epoch. You can train your model\n",
        "for longer if you want, but training tend to take a long time,\n",
        "so we're only checking to see that your training loss is trending down.\n",
        "\n",
        "If you are using Google Colab, you can use a GPU for this portion.\n",
        "Go to \"Runtime\" => \"Change Runtime Type\"  and set \"Hardware acceleration\" to GPU.\n",
        "Your Colab session will restart.\n",
        "You can move your model to the GPU by typing `model.cuda()`, and move\n",
        "other tensors to GPU (e.g. `xs = xs.cuda()`). To move a model back to CPU,\n",
        "type `model.cpu`. To move a tensor back, use `xs = xs.cpu()`. For training,\n",
        "your model and inputs need to be on the *same device*."
      ]
    },
    {
      "cell_type": "code",
      "metadata": {
        "id": "9IXnUFUJ4KUT"
      },
      "source": [
        "def train_autoencoder(model, batch_size=64, learning_rate=0.001, num_epochs=10):\n",
        "    optimizer = optim.Adam(model.parameters(), lr=learning_rate)\n",
        "    criterion = nn.CrossEntropyLoss()\n",
        "\n",
        "    model.cuda()      #Sending the model to GPU\n",
        "    val_loss_list = []\n",
        "    val_n = 0\n",
        "    iter = []\n",
        "    for ep in range(num_epochs):\n",
        "        # We will perform data augmentation by re-reading the input each time\n",
        "        field = data.Field(sequential=True,\n",
        "                                     tokenize=tokenize_and_randomize, # <-- data augmentation\n",
        "                                     include_lengths=True,\n",
        "                                     batch_first=True,\n",
        "                                     use_vocab=False, # <-- the tokenization function replaces this\n",
        "                                     pad_token=vocab.stoi['<pad>'])\n",
        "        dataset = data.TabularDataset(train_path, \"tsv\", [('title', field)])\n",
        "\n",
        "        # This BucketIterator will handle padding of sequences that are not of the same length\n",
        "        train_iter = data.BucketIterator(dataset,\n",
        "                                                   batch_size=batch_size,\n",
        "                                                   sort_key=lambda x: len(x.title), # to minimize padding\n",
        "                                                   repeat=False)\n",
        "        \n",
        "        dataset_valid = data.TabularDataset(valid_path, \"tsv\", [('title', field)])\n",
        "\n",
        "        # This BucketIterator will handle padding of sequences that are not of the same length\n",
        "        valid_iter = data.BucketIterator(dataset_valid,\n",
        "                                                   batch_size=batch_size,\n",
        "                                                   sort_key=lambda x: len(x.title), # to minimize padding\n",
        "                                                   repeat=False)\n",
        "        \n",
        "        for it, ((xs, lengths), _) in enumerate(train_iter):\n",
        "            xs = xs.cuda()\n",
        "            output = model(xs)\n",
        "            loss = criterion(output.reshape(-1, vocab_size).double(),xs[:,1:].reshape(-1))\n",
        "            optimizer.zero_grad()\n",
        "            loss.backward()\n",
        "            optimizer.step()\n",
        "\n",
        "\n",
        "            if (it+1) % 100 == 0:\n",
        "                print(\"[Iter %d] Loss %f\" % (it+1, float(loss)))\n",
        "                val_loss = 0\n",
        "                for i, ((vs, lengths), _) in enumerate(valid_iter):\n",
        "                    vs = vs.cuda()\n",
        "                    zs = model(vs)\n",
        "                    loss = criterion(zs.reshape(-1, vocab_size).double(),vs[:,1:].reshape(-1))\n",
        "                    val_loss += float(loss)\n",
        "                val_loss_list.append(val_loss)\n",
        "                iter.append(it)\n",
        "        return val_loss_list, iter\n",
        "\n",
        "# Include your training curve or output to show that your training loss is trending down"
      ],
      "execution_count": null,
      "outputs": []
    },
    {
      "cell_type": "code",
      "source": [
        "model = AutoEncoder(10000, 128, 128)\n",
        "val_loss_list, iter = train_autoencoder(model, batch_size=64, learning_rate=0.001, num_epochs=1)"
      ],
      "metadata": {
        "colab": {
          "base_uri": "https://localhost:8080/"
        },
        "id": "QkNWlOV9-lzG",
        "outputId": "38ae17e0-5858-4cbb-923c-2c2d852a080a"
      },
      "execution_count": null,
      "outputs": [
        {
          "output_type": "stream",
          "name": "stdout",
          "text": [
            "[Iter 100] Loss 4.691894\n",
            "[Iter 200] Loss 4.721688\n",
            "[Iter 300] Loss 4.335512\n",
            "[Iter 400] Loss 4.169982\n",
            "[Iter 500] Loss 4.063227\n",
            "[Iter 600] Loss 3.529230\n",
            "[Iter 700] Loss 3.322038\n",
            "[Iter 800] Loss 3.809353\n",
            "[Iter 900] Loss 3.532978\n",
            "[Iter 1000] Loss 3.167476\n",
            "[Iter 1100] Loss 3.698731\n",
            "[Iter 1200] Loss 3.877786\n",
            "[Iter 1300] Loss 3.410537\n",
            "[Iter 1400] Loss 3.973885\n",
            "[Iter 1500] Loss 3.387378\n",
            "[Iter 1600] Loss 3.217453\n",
            "[Iter 1700] Loss 3.193566\n",
            "[Iter 1800] Loss 3.421686\n",
            "[Iter 1900] Loss 3.030582\n",
            "[Iter 2000] Loss 3.316858\n",
            "[Iter 2100] Loss 3.142178\n",
            "[Iter 2200] Loss 3.681817\n",
            "[Iter 2300] Loss 2.983117\n",
            "[Iter 2400] Loss 3.527899\n",
            "[Iter 2500] Loss 3.312171\n",
            "[Iter 2600] Loss 3.269079\n"
          ]
        }
      ]
    },
    {
      "cell_type": "code",
      "source": [
        "plt.title(\"Validation Curve\")\n",
        "plt.plot(iter, val_loss_list, label=\"Valid\")\n",
        "plt.xlabel(\"iterations\")\n",
        "plt.ylabel(\"Loss\")\n",
        "plt.legend(loc='best')\n",
        "plt.show()"
      ],
      "metadata": {
        "colab": {
          "base_uri": "https://localhost:8080/",
          "height": 295
        },
        "id": "r1m_HidVC9sQ",
        "outputId": "efd8bbf3-ef30-4f30-cd05-d38b873bfcf0"
      },
      "execution_count": null,
      "outputs": [
        {
          "output_type": "display_data",
          "data": {
            "image/png": "[encoded data removed]",
            "text/plain": [
              "<Figure size 432x288 with 1 Axes>"
            ]
          },
          "metadata": {
            "needs_background": "light"
          }
        }
      ]
    },
    {
      "cell_type": "markdown",
      "metadata": {
        "id": "wQot60XU4KUT"
      },
      "source": [
        "### Part (c) -- 7%\n",
        "\n",
        "This model requires many epochs (>50) to train, and is quite slow without using a GPU.\n",
        "You can train a model yourself, or you can load the model weights that we have trained,\n",
        "and available on the course website (AE_RNN_model.pk).\n",
        "\n",
        "Assuming that your `AutoEncoder` is set up correctly, the following code should run without\n",
        "error."
      ]
    },
    {
      "cell_type": "code",
      "source": [
        "model = AutoEncoder(10000, 128, 128)\n",
        "checkpoint_path = '/content/gdrive/My Drive/Colab Notebooks/model_parameters/AE/AE_RNN_model.pk' # Update me\n",
        "model.load_state_dict(torch.load(checkpoint_path))"
      ],
      "metadata": {
        "colab": {
          "base_uri": "https://localhost:8080/"
        },
        "id": "fgMnrkNPxTCz",
        "outputId": "81d563c0-c102-41a2-cc73-b070cf9544f8"
      },
      "execution_count": null,
      "outputs": [
        {
          "output_type": "execute_result",
          "data": {
            "text/plain": [
              "<All keys matched successfully>"
            ]
          },
          "metadata": {},
          "execution_count": 23
        }
      ]
    },
    {
      "cell_type": "markdown",
      "metadata": {
        "id": "sG-xazc24KUU"
      },
      "source": [
        "Then, repeat your code from Q2(d), for `train_data[10].title`\n",
        "with temperature settings 0.7, 0.9, and 1.5.\n",
        "Explain why we generally don't want the temperature setting to\n",
        "be too **small**."
      ]
    },
    {
      "cell_type": "code",
      "metadata": {
        "id": "AXF5iBHX4KUU",
        "colab": {
          "base_uri": "https://localhost:8080/"
        },
        "outputId": "32df39ed-732c-4679-c424-7954f589ef77"
      },
      "source": [
        "# Include the generated sequences and explanation in your PDF report.\n",
        "\n",
        "headline = train_data[10].title\n",
        "input_seq = torch.Tensor([vocab.stoi[w] for w in headline]).unsqueeze(0).long()\n",
        "print(\"original seq:\",headline)\n",
        "temperature = [0.7,0.9,1.5]\n",
        "for temp in temperature:\n",
        "  print(\"Temperature:\", temp)\n",
        "  for i in range(5):\n",
        "    hidden = model.encode(input_seq)\n",
        "    print(\"restored seq:\", sample_sequence(model, hidden, max_len=20, temperature=temp),\"\\n\")"
      ],
      "execution_count": null,
      "outputs": [
        {
          "output_type": "stream",
          "name": "stdout",
          "text": [
            "original seq: ['<bos>', 'wall', 'street', 'rises', ',', 'limps', 'across', 'the', 'finish', 'line', 'of', 'a', 'turbulent', 'year', '<eos>']\n",
            "Temperature: 0.7\n",
            "restored seq: ['wall', 'street', 'rises', ',', 'limps', 'turn', 'vet', ',', 'closes', '<pad>', 'after', 'euro', 'parliament'] \n",
            "\n",
            "restored seq: ['wall', 'street', 'rises', ',', 'limps', 'across', 'the', 'finish', 'line', 'of', 'a', 'highlights', 'note'] \n",
            "\n",
            "restored seq: ['wall', 'street', 'rises', ',', 'limps', 'die', 'win', \"'s\", 'employees', '<pad>', 'one-time', 'after', 'wto'] \n",
            "\n",
            "restored seq: ['wall', 'street', 'rises', ',', 'limps', 'dead', 'cincinnati', 'to', 'paint', ':', 'capital', 'election', 'fourth'] \n",
            "\n",
            "restored seq: ['wall', 'street', 'rises', ',', 'limps', 'die', 'win', 'at', 'of', 'sciences', 'election', 'four'] \n",
            "\n",
            "Temperature: 0.9\n",
            "restored seq: ['wall', 'street', 'rises', ',', 'limps', 'die', 'win', \"'s\", 'factory', 'protesters', '<pad>', 'olympics', 'war'] \n",
            "\n",
            "restored seq: ['wall', 'street', 'rises', ',', 'limps', 'dead', 'anthem', 'to', 'final', '<pad>', 'israeli', 'year', 'angst'] \n",
            "\n",
            "restored seq: ['wall', 'street', 'rises', ',', 'limps', 'across', 'the', 'finish', 'line', 'of', 'a', 'turbulent', 'year'] \n",
            "\n",
            "restored seq: ['wall', 'street', 'rises', ',', 'limps', 'across', 'australia', 'request', 'peaceful', '<pad>', 'drone', 'three', 'tame'] \n",
            "\n",
            "restored seq: ['wall', 'street', 'rises', ',', 'limps', 'die', 'win', 'at', 'of', 'sciences', 'election', 'four', 'daily'] \n",
            "\n",
            "Temperature: 1.5\n",
            "restored seq: ['wall', 'street', 'del', ',', 'parting', 'del', 'into', 'others', 'league', 'bangladesh', \"'s\", 'investments', 'call'] \n",
            "\n",
            "restored seq: ['wall', 'street', 'rises', ',', 'jd.com', 'sector', 'lunch', 'win', 'detroit', \"'s\", 'second', 'dec', 'insults'] \n",
            "\n",
            "restored seq: ['wall', 'street', 'rises', ',', 'asahi', 'shows', 'collecting', 'at', 'for', 'stays', 'europe', 'city', 'nordstrom'] \n",
            "\n",
            "restored seq: ['wall', 'pro-democracy', 'results', 'up', 'risk', 'mario', 'butina', 'man', 'with', 'low', '<pad>', 'january', 'for'] \n",
            "\n",
            "restored seq: ['captures', 'european', 'stocks', 'curtailments', 'men', 'full-year', 'turn', 'after', 'cut', 'to', 'northeast', 'site', 'presidency'] \n",
            "\n"
          ]
        }
      ]
    },
    {
      "cell_type": "markdown",
      "metadata": {
        "id": "tgjhZHJDRljU"
      },
      "source": [
        "**Write your explanation here:**\n",
        "\n",
        "After training the model we have a words distribution that the model is smapling from in order to generate the new sentence.\n",
        "We can see that for low temperature values the distribution is \"peakier\", with low varriance, and the model's sampler will be more conservative - sticking more to those very likely tokens."
      ]
    },
    {
      "cell_type": "markdown",
      "metadata": {
        "id": "mftjD-To4KUU"
      },
      "source": [
        "## Question 4. Latent space manipulations (20%)\n",
        "\n",
        "In parts 2-3, we've explored the decoder portion of the autoencoder. In this section,\n",
        "let's explore the **encoder**. In particular, the encoder RNN gives us \n",
        "embeddings of news headlines!\n",
        "\n",
        "First, let's load the **validation** data set:"
      ]
    },
    {
      "cell_type": "code",
      "metadata": {
        "id": "08HhRGfm4KUU",
        "colab": {
          "base_uri": "https://localhost:8080/"
        },
        "outputId": "c85af4e8-810d-4f37-ef88-f797cf3f42d7"
      },
      "source": [
        "valid_data = data.TabularDataset(\n",
        "    path=valid_path,                # data file path\n",
        "    format=\"tsv\",                   # fields are separated by a tab\n",
        "    fields=[('title', text_field)]) # list of fields (we have only one)\n",
        "\n",
        "print(len(valid_data))"
      ],
      "execution_count": null,
      "outputs": [
        {
          "output_type": "stream",
          "name": "stdout",
          "text": [
            "19046\n"
          ]
        }
      ]
    },
    {
      "cell_type": "markdown",
      "metadata": {
        "id": "utBRC0tq4KUV"
      },
      "source": [
        "### Part (a) -- 4%\n",
        "\n",
        "Compute the embeddings of every item in the validation set. Then, store the\n",
        "result in a single PyTorch tensor of shape `[19046, 128]`, since there are\n",
        "19,046 headlines in the validation set."
      ]
    },
    {
      "cell_type": "code",
      "metadata": {
        "id": "9GmdVIPB4KUV",
        "colab": {
          "base_uri": "https://localhost:8080/"
        },
        "outputId": "3cca46b0-dda0-4205-d268-981c4ce7b99b"
      },
      "source": [
        "# Write your code here\n",
        "# Show that your resulting PyTorch tensor has shape `[19046, 128]`\n",
        "valid_iter = data.BucketIterator(valid_data,\n",
        "                                batch_size=len(valid_data),\n",
        "                                sort_key=lambda x: len(x.title), # to minimize padding\n",
        "                                repeat=False)\n",
        "\n",
        "for it, ((xs, lengths), _) in enumerate(valid_iter):   #There is just 1 iteration. \n",
        "    Emb_valid = model.encode(xs).squeeze(0)\n",
        "\n",
        "print(\"Embbeding valid shape:\",Emb_valid.shape)\n",
        "print(\"type of embedding valid:\", type(Emb_valid))"
      ],
      "execution_count": null,
      "outputs": [
        {
          "output_type": "stream",
          "name": "stdout",
          "text": [
            "Embbeding valid shape: torch.Size([19046, 128])\n",
            "type of embedding valid: <class 'torch.Tensor'>\n"
          ]
        }
      ]
    },
    {
      "cell_type": "markdown",
      "metadata": {
        "id": "BlKbT2vW4KUV"
      },
      "source": [
        "### Part (b) -- 4%\n",
        "\n",
        "Find the 5 closest headlines to the headline `valid_data[13]`. Use the\n",
        "cosine similarity to determine closeness. (Hint: You can use code from assignment 2)"
      ]
    },
    {
      "cell_type": "code",
      "metadata": {
        "id": "7AMt2HIz4KUV"
      },
      "source": [
        "# Write your code here. Make sure to include the actual 5 closest headlines.\n",
        "Emb_valid_np = Emb_valid.detach().numpy()\n",
        "norms = np.linalg.norm(Emb_valid_np, axis=1)\n",
        "word_emb_norm = (Emb_valid_np.T / norms).T\n",
        "similarities = np.matmul(word_emb_norm, word_emb_norm.T)\n"
      ],
      "execution_count": null,
      "outputs": []
    },
    {
      "cell_type": "code",
      "source": [
        "five_smallest_idx = np.argpartition(similarities[13], -6)[-6:-1]\n",
        "\n",
        "print(\"The given headline is:\",valid_data[13].title)\n",
        "print(\"\\nThe 5 closest headlines to that are:\")\n",
        "for idx in five_smallest_idx:\n",
        "  print(valid_data[idx].title)"
      ],
      "metadata": {
        "colab": {
          "base_uri": "https://localhost:8080/"
        },
        "id": "sOOs0mvGTN5E",
        "outputId": "1a98feae-2f01-40e7-e361-0c3a562e31ef"
      },
      "execution_count": null,
      "outputs": [
        {
          "output_type": "stream",
          "name": "stdout",
          "text": [
            "The given headline is: ['<bos>', 'asia', 'takes', 'heart', 'from', 'new', 'year', 'gains', 'in', 'u.s.', 'stock', 'futures', '<eos>']\n",
            "\n",
            "The 5 closest headlines to that are:\n",
            "['<bos>', 'us', 'stocks-wall', 'street', 'slightly', 'lower', 'as', 'citi', 'results', 'weigh', 'on', 'bank', 'stocks', '<eos>']\n",
            "['<bos>', 'venezuela', 'lawmaker', 'seeks', 'refuge', 'in', 'argentine', 'embassy', 'after', 'colleague', \"'s\", 'arrest', '<eos>']\n",
            "['<bos>', 'fbi', 'joins', 'criminal', 'investigation', 'into', 'boeing', '_num_', 'max', 'certification', '-', 'report', '<eos>']\n",
            "['<bos>', 'bahrain', 'closer', 'to', 'extradition', 'of', 'footballer', 'held', 'in', 'thailand', '<eos>']\n",
            "['<bos>', 'congo', 'president', 'says', 'ebola', 'outbreak', 'should', 'be', 'over', 'this', 'year', '<eos>']\n"
          ]
        }
      ]
    },
    {
      "cell_type": "markdown",
      "metadata": {
        "id": "cAzZt4bU4KUW"
      },
      "source": [
        " ### Part (c) -- 4%\n",
        "\n",
        "Find the 5 closest headlines to another headline of your choice."
      ]
    },
    {
      "cell_type": "code",
      "metadata": {
        "id": "BkKR09Ce4KUW",
        "colab": {
          "base_uri": "https://localhost:8080/"
        },
        "outputId": "b787d2a2-d8e6-4a73-8122-07cc152c14a8"
      },
      "source": [
        "# Write your code here. \n",
        "# Make sure to include the original headline and the 5 closest headlines.\n",
        "five_smallest_idx = np.argpartition(similarities[1], -6)[-6:-1]\n",
        "\n",
        "print(\"The given headline is:\",valid_data[1].title)\n",
        "print(\"\\nThe 5 closest headlines to that are:\")\n",
        "for idx in five_smallest_idx:\n",
        "  print(valid_data[idx].title)"
      ],
      "execution_count": null,
      "outputs": [
        {
          "output_type": "stream",
          "name": "stdout",
          "text": [
            "The given headline is: ['<bos>', 'indonesia', 'landslides', 'kill', 'at', 'least', 'two', ',', 'leave', 'dozens', 'missing', '<eos>']\n",
            "\n",
            "The 5 closest headlines to that are:\n",
            "['<bos>', 'ralph', 'lauren', 'profit', 'gets', 'boost', 'from', 'chinese', 'demand', ';', 'shares', 'rise', '_num_', '%', '<eos>']\n",
            "['<bos>', 'indonesia', 'landslides', 'kill', 'at', 'least', 'two', ',', 'leave', 'dozens', 'missing', '<eos>']\n",
            "['<bos>', 'singapore', 'central', 'bank', 'to', 'reveal', 'fx', 'intervention', ',', 'improving', 'transparency', '<eos>']\n",
            "['<bos>', 'wall', 'street', 'trims', 'gains', 'after', 'kudlow', \"'s\", 'trade', 'comments', '<eos>']\n",
            "['<bos>', 'precious-palladium', 'hits', 'record', 'high', ';', 'gold', 'gains', 'on', 'dovish', 'fed', 'talk', '<eos>']\n"
          ]
        }
      ]
    },
    {
      "cell_type": "markdown",
      "metadata": {
        "id": "ftUooZD-4KUW"
      },
      "source": [
        "### Part (d) -- 8%\n",
        "\n",
        "Choose two headlines from the validation set, and find their embeddings.\n",
        "We will **interpolate** between the two embeddings like we did in the example presented in class for training autoencoders on MNIST.\n",
        "\n",
        "Find 3 points, equally spaced between the embeddings of your headlines.\n",
        "If we let $e_0$ be the embedding of your first headline and $e_4$ be\n",
        "the embedding of your second headline, your three points should be:\n",
        "\n",
        "\\begin{align*}\n",
        "e_1 &=  0.75 e_0 + 0.25 e_4 \\\\\n",
        "e_2 &=  0.50 e_0 + 0.50 e_4 \\\\\n",
        "e_3 &=  0.25 e_0 + 0.75 e_4 \\\\\n",
        "\\end{align*}\n",
        "\n",
        "Decode each of $e_1$, $e_2$ and $e_3$ five times, with a temperature setting\n",
        "that shows some variation in the generated sequences. Try to get a logical and cool sentence (this might be hard)."
      ]
    },
    {
      "cell_type": "code",
      "metadata": {
        "id": "7SYa3PNc4KUW",
        "colab": {
          "base_uri": "https://localhost:8080/"
        },
        "outputId": "ca89bcc7-7334-48a4-e76e-aafc47dcf350"
      },
      "source": [
        "# Write your code here. Include your generated sequences.\n",
        "e = [0]*5\n",
        "e[0] = Emb_valid[60]\n",
        "e[4] = Emb_valid[61]\n",
        "for i in range(1,4):\n",
        "    e[i]=(1-0.25*i)*e[0]+0.25*i*e[4]\n",
        "\n",
        "for j in range(5):\n",
        "    print(\"\\nround\", j+1, \":\")\n",
        "    for i in range(0,5):\n",
        "        print(\"e\",i,\" = \", sample_sequence(model, e[i].unsqueeze(0).unsqueeze(0), max_len=20, temperature=1.5))\n",
        "        \n"
      ],
      "execution_count": null,
      "outputs": [
        {
          "output_type": "stream",
          "name": "stdout",
          "text": [
            "\n",
            "round 1 :\n",
            "e 0  =  ['update', 'we', 'firmer', 'america', 'new', 'chemical', 'markets-asian', 'sales', 'call', 'ends', 'and', 'kill']\n",
            "e 1  =  ['uk', 'says', 'wall', 'void', 'update', 'semi-final', 'seeks', 'on', 'hits', 'talks', '_num_-week']\n",
            "e 2  =  ['u.s.-iran', 'china', 'cup', 'santos', 'delay', 'find', 'as', 'pct', 'decline', 'extension', 'nov']\n",
            "e 3  =  ['dollar', 'to', 'islands', 'party', 'nearly', '_num_-congo', 'top', 'economic', 'year', '_num_-week']\n",
            "e 4  =  ['dollar', 'falls', 'for', 'a', 'since', 'suzuki', 'after', 'slowing', 'but', 'economic', 'lagarde', '<pad>', 'farage', 'parliament', 'fake']\n",
            "\n",
            "round 2 :\n",
            "e 0  =  ['update', '_num_-huawei', 'says', 'european', 'smart', 'phones', 'sales', 'up', 'in', 'rail', ':', 'twist']\n",
            "e 1  =  ['update', 'u.s.-iran', 'ups', '_num_-dutch', 'u.s.', 'disorder', '_num_-delta', ',', 'and', '-baker', 'optimism', 'lebanese']\n",
            "e 2  =  ['investors', \"'s\", 'paso', 'for', 'depend', 'new', 'revenue', 'pound', 'standoff', 'rate', 'outperforms']\n",
            "e 3  =  ['to', 'breakingviews', 'opec', 'cup', 'of', 'ftse', 'leads', 'weak', 'four', 'samples', 'ecb']\n",
            "e 4  =  ['dollar', 'falls', 'for', 'a', 'third', 'day', 'on', 'rate', 'pause', 'bets']\n",
            "\n",
            "round 3 :\n",
            "e 0  =  ['update', '_num_-huawei', 'to', 'maryland', '_num_-pompeo', 'testing', 'looking', 'to', 'gain', 'hits', 'coast', 'mozambique']\n",
            "e 1  =  ['uk', 'survey', 'toward', 'wing', 'for', 'santos', 'fans', 'nearly', 'continue', 'retreats', ':']\n",
            "e 2  =  ['dollar', 'update', 'wider', 'to', 'repsol', 'big', 'business', 'flooding', 'fades', 'of', 'boon']\n",
            "e 3  =  ['dollar', 'to', 'supervisory', ',', 'third', '100m', 'of', 'slow', 'trump', 'eyeing', 'recovery']\n",
            "e 4  =  ['dollar', 'falls', 'for', 'a', 'third', 'day', 'on', 'rate', 'pause', 'bets']\n",
            "\n",
            "round 4 :\n",
            "e 0  =  ['update', 'erdogan', 'weigh', 'wall', 'style', 'ask', 'sales', 'in', 'tumble', 'through', 'olympics', 'came']\n",
            "e 1  =  ['too', 'update', 'golden', 'corruption', 'trade', 'pickup', 'sales', 'from', 'in', 'mlb', 'january']\n",
            "e 2  =  ['investors', \"'s\", 'russian', 'responses', 'to', 'output', 'ups', 'blackouts', 'as', 'decade', 'wave']\n",
            "e 3  =  ['dollar', 'to', 'islands', 'party', 'in', 'slump', 'since', 'cuts', 'job', 'tsitsipas', 'u.s.-china']\n",
            "e 4  =  ['dollar', 'falls', 'for', 'a', 'after', 'third', 'proposal', 'year', 'rate', 'talk']\n",
            "\n",
            "round 5 :\n",
            "e 0  =  ['uk', 'reverses', 'update', 'pleads', '-study', 'of', 'science', 'in', 'sink', 'sales', 'mulls', 'partial']\n",
            "e 1  =  ['update', 'unlikely', 'hopes', 'pills', 'new', 'disorder', 'nasdaq', ';', 'march', 'imo', 'standoff']\n",
            "e 2  =  ['erdogan', ',', 'offsets', '_num_', 'nexon', 'semis', 'in', 'prices', 'key', 'and', 'texans']\n",
            "e 3  =  ['dollar', 'rising', 'to', 'damascus', 'gdp', 'after', 'steady', 'as', 'dubai', 'january']\n",
            "e 4  =  ['dollar', 'falls', 'for', 'a', 'third', 'day', 'on', 'rate', 'pause', 'bets']\n"
          ]
        }
      ]
    }
  ]
}